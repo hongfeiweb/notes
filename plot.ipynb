{
 "cells": [
  {
   "cell_type": "markdown",
   "id": "998b4f60-9467-430c-9ec8-915909c6fba9",
   "metadata": {},
   "source": [
    "# Assesment of Edge Blocking and Token Validation Plugin's Performance Impact"
   ]
  },
  {
   "cell_type": "markdown",
   "id": "c4f4313a-f49c-4237-9907-d237d772f100",
   "metadata": {},
   "source": [
    "## Concerns\n",
    "Since DAZN/TI's content protection scheme requires black/white list processing and signed token validation, both plugins involves spawning inner transactions for country/asn/header lookup and the latter also conducts cryptographic computions, and these protections need to be enforced on all requests (manifests and segments), we are concerned about whether and how these additional operations will negatively impact the performance of (edge) caches"
   ]
  },
  {
   "cell_type": "markdown",
   "id": "36929c96-b9ff-4b15-bb49-b001eb9cbaec",
   "metadata": {},
   "source": [
    "## Approach\n"
   ]
  },
  {
   "cell_type": "markdown",
   "id": "998e9dd3-35fe-4fbf-8bd3-4bf857e7f218",
   "metadata": {},
   "source": [
    "## Test setup\n",
    "A/B tests are run in parallel as a pair of loads. First using a series of 8MB contents, then using a series of 500KB contents. \n",
    "<img src=\"token_perf_setup.png\" alt=\"Test setup\" />"
   ]
  }
}
