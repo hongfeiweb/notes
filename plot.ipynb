## Test setup
A/B tests are run in parallel as a pair of loads. First using a series of 8MB contents, then using a series of 500KB contents. 
<img src="token_perf_setup.png" alt="Test setup" />
