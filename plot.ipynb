{
 "cells": [
  {
   "cell_type": "markdown",
   "id": "998e9dd3-35fe-4fbf-8bd3-4bf857e7f218",
   "metadata": {},
   "source": [
    "## Test setup\n",
    "A/B tests are run in parallel as a pair of loads. First using a series of 8MB contents, then using a series of 500KB contents. \n",
    "<img src=\"token_perf_setup.png\" alt=\"Test setup\" />"
   ]
  }
 ]
}
