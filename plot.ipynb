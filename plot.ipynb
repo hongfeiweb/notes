{
 "cells": [
  {
   "cell_type": "markdown",
   "id": "33155c63-889f-46a3-85c3-d2edca668d49",
   "metadata": {},
   "source": [
    "## Test\n",
    "this is a test for image embedding\n",
    "![alter text](token_perf_setup.png)"
   ]
  },
  {
   "cell_type": "code",
   "execution_count": null,
   "id": "06602a09-de7f-4b3b-b8af-fce91ca8b3bc",
   "metadata": {},
   "outputs": [],
   "source": []
  }
 ],
 "metadata": {
  "kernelspec": {
   "display_name": "Python 3 (ipykernel)",
   "language": "python",
   "name": "python3"
  },
  "language_info": {
   "codemirror_mode": {
    "name": "ipython",
    "version": 3
   },
   "file_extension": ".py",
   "mimetype": "text/x-python",
   "name": "python",
   "nbconvert_exporter": "python",
   "pygments_lexer": "ipython3",
   "version": "3.11.5"
  }
 },
 "nbformat": 4,
 "nbformat_minor": 5
}
